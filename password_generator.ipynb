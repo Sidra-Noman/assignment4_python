{
  "nbformat": 4,
  "nbformat_minor": 0,
  "metadata": {
    "colab": {
      "provenance": [],
      "authorship_tag": "ABX9TyOalHxPS53swhYW7tfeVHl/",
      "include_colab_link": true
    },
    "kernelspec": {
      "name": "python3",
      "display_name": "Python 3"
    },
    "language_info": {
      "name": "python"
    }
  },
  "cells": [
    {
      "cell_type": "markdown",
      "metadata": {
        "id": "view-in-github",
        "colab_type": "text"
      },
      "source": [
        "<a href=\"https://colab.research.google.com/github/Sidra-Noman/assignment4_python/blob/main/password_generator.ipynb\" target=\"_parent\"><img src=\"https://colab.research.google.com/assets/colab-badge.svg\" alt=\"Open In Colab\"/></a>"
      ]
    },
    {
      "cell_type": "code",
      "execution_count": 4,
      "metadata": {
        "colab": {
          "base_uri": "https://localhost:8080/"
        },
        "id": "wQCWHOksKyx7",
        "outputId": "ae859fac-9e69-4ba9-9a28-ac143e711790"
      },
      "outputs": [
        {
          "output_type": "stream",
          "name": "stdout",
          "text": [
            "🔐 Password Strength Checker 🔐\n",
            "👋 Welcome to the Password Strength Checker!\n",
            "Enter a password to see how secure it is.\n",
            "Get quick tips to make it stronger and stay safe online.\n",
            "\n",
            "Enter your password: Sidra@123\n",
            "\n",
            "## Password Feedback\n",
            "✅ Your password is strong! 🎉\n"
          ]
        }
      ],
      "source": [
        "import re\n",
        "\n",
        "# Display a title and welcome message\n",
        "print(\"🔐 Password Strength Checker 🔐\")\n",
        "print(\"👋 Welcome to the Password Strength Checker!\")\n",
        "print(\"Enter a password to see how secure it is.\")\n",
        "print(\"Get quick tips to make it stronger and stay safe online.\\n\")\n",
        "\n",
        "# Ask user to input password\n",
        "password = input(\"Enter your password: \")\n",
        "\n",
        "feedback = []\n",
        "score = 0\n",
        "\n",
        "# Check password strength\n",
        "if password:\n",
        "    if len(password) >= 8:\n",
        "        score += 1\n",
        "    else:\n",
        "        feedback.append(\"❌ Password should be at least 8 characters long.\")\n",
        "\n",
        "    if re.search(r'[A-Z]', password) and re.search(r'[a-z]', password):\n",
        "        score += 1\n",
        "    else:\n",
        "        feedback.append(\"❌ Password should contain both uppercase and lowercase letters.\")\n",
        "\n",
        "    if re.search(r'\\d', password):\n",
        "        score += 1\n",
        "    else:\n",
        "        feedback.append(\"❌ Password should contain at least one digit.\")\n",
        "\n",
        "    if re.search(r'[!@#$%&*]', password):\n",
        "        score += 1\n",
        "    else:\n",
        "        feedback.append(\"❌ Password should contain at least one special character (!@#$%&*).\")\n",
        "\n",
        "    # Final feedback\n",
        "    print(\"\\n## Password Feedback\")\n",
        "    if score == 4:\n",
        "        print(\"✅ Your password is strong! 🎉\")\n",
        "    elif score == 3:\n",
        "        print(\"🟡 Your password is medium. It could be stronger.\")\n",
        "    else:\n",
        "        print(\"🔴 Your password is weak. Make it stronger.\")\n",
        "\n",
        "    # Display improvement suggestions\n",
        "    if feedback:\n",
        "        print(\"\\n## Improvement Suggestions:\")\n",
        "        for tip in feedback:\n",
        "            print(tip)\n",
        "else:\n",
        "    print(\"ℹ️ Please enter your password to get started.\")\n"
      ]
    }
  ]
}