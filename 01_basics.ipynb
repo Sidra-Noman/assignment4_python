{
  "nbformat": 4,
  "nbformat_minor": 0,
  "metadata": {
    "colab": {
      "provenance": [],
      "authorship_tag": "ABX9TyPZbq3/AOYfhZ6dw859kdoj",
      "include_colab_link": true
    },
    "kernelspec": {
      "name": "python3",
      "display_name": "Python 3"
    },
    "language_info": {
      "name": "python"
    }
  },
  "cells": [
    {
      "cell_type": "markdown",
      "metadata": {
        "id": "view-in-github",
        "colab_type": "text"
      },
      "source": [
        "<a href=\"https://colab.research.google.com/github/Sidra-Noman/assignment4_python/blob/main/01_basics.ipynb\" target=\"_parent\"><img src=\"https://colab.research.google.com/assets/colab-badge.svg\" alt=\"Open In Colab\"/></a>"
      ]
    },
    {
      "cell_type": "code",
      "execution_count": 1,
      "metadata": {
        "colab": {
          "base_uri": "https://localhost:8080/"
        },
        "id": "sB_G2iXFdXgt",
        "outputId": "42575cea-de8a-437f-ed2d-0189a0cd9291"
      },
      "outputs": [
        {
          "output_type": "stream",
          "name": "stdout",
          "text": [
            "What do you want? joke\n",
            "\n",
            "Here is a joke for you! Sophia is heading out to the grocery store. A programmer tells her: get a liter of milk, and if they have eggs, get 12.\n",
            "Sophia returns with 13 liters of milk. The programmer asks why and Sophia replies: 'because they had eggs'\n",
            " \n"
          ]
        }
      ],
      "source": [
        "# 00_joke_bot\n",
        "\n",
        "PROMPT: str = \"What do you want? \"\n",
        "JOKE: str = \"\"\"\n",
        "Here is a joke for you! Sophia is heading out to the grocery store. A programmer tells her: get a liter of milk, and if they have eggs, get 12.\n",
        "Sophia returns with 13 liters of milk. The programmer asks why and Sophia replies: 'because they had eggs'\n",
        " \"\"\"\n",
        "SORRY: str = \"Sorry I only tell jokes.\"\n",
        "\n",
        "def main():\n",
        "    user_input = input(PROMPT)\n",
        "    user_input = user_input.strip().lower()\n",
        "\n",
        "    if 'joke' in user_input:\n",
        "        print(JOKE)\n",
        "    else:\n",
        "        print(SORRY)\n",
        "\n",
        "if __name__ == \"__main__\":\n",
        "    main()\n",
        ""
      ]
    },
    {
      "cell_type": "code",
      "source": [
        "# 01_double_it\n",
        "def main():\n",
        "\n",
        "    user_value = int(input('Enter a number: '))\n",
        "    while user_value < 100:\n",
        "      user_value = user_value * 2\n",
        "      print(user_value)\n",
        "\n",
        "\n",
        "if __name__ == \"__main__\":\n",
        "    main()"
      ],
      "metadata": {
        "colab": {
          "base_uri": "https://localhost:8080/"
        },
        "id": "dPXSETQpeIbX",
        "outputId": "98c2edaf-0718-42ef-ad7b-ef7648b67164"
      },
      "execution_count": 2,
      "outputs": [
        {
          "output_type": "stream",
          "name": "stdout",
          "text": [
            "Enter a number: 45\n",
            "90\n",
            "180\n"
          ]
        }
      ]
    },
    {
      "cell_type": "code",
      "source": [
        "# 02_liftoff\n",
        "\n",
        "def main():\n",
        "  for i in range(10,0,-1):\n",
        "\n",
        "    print(i,end=' ')\n",
        "  print(\"Liftoff!\")\n",
        "\n",
        "\n",
        "if __name__ == '__main__':\n",
        "    main()\n",
        "\n"
      ],
      "metadata": {
        "colab": {
          "base_uri": "https://localhost:8080/"
        },
        "id": "ADFNRO9meSVa",
        "outputId": "bcb6d046-aaa6-4b84-c945-c86c913bb379"
      },
      "execution_count": 3,
      "outputs": [
        {
          "output_type": "stream",
          "name": "stdout",
          "text": [
            "10 9 8 7 6 5 4 3 2 1 Liftoff!\n"
          ]
        }
      ]
    },
    {
      "cell_type": "code",
      "source": [
        "# 03_guess_my_number\n",
        "import random\n",
        "\n",
        "def main():\n",
        "\n",
        "    secret_number = random.randint(1, 99)\n",
        "\n",
        "    print(\"I am thinking of a number between 1 and 99...\")\n",
        "\n",
        "    guess = int(input(\"Enter a guess: \"))\n",
        "    while guess != secret_number:\n",
        "        if guess < secret_number:\n",
        "            print(\"Your guess is too low\")\n",
        "        else:\n",
        "            print(\"Your guess is too high\")\n",
        "\n",
        "        print()\n",
        "        guess = int(input(\"Enter a new guess: \"))\n",
        "\n",
        "    print(f\"Congrats! The number was:  {secret_number}\")\n",
        "\n",
        "if __name__ == '__main__':\n",
        "    main()"
      ],
      "metadata": {
        "colab": {
          "base_uri": "https://localhost:8080/"
        },
        "id": "eCgQr4q_eYLS",
        "outputId": "917d6159-3c7e-4f23-bddb-2907bcdf50e8"
      },
      "execution_count": 4,
      "outputs": [
        {
          "output_type": "stream",
          "name": "stdout",
          "text": [
            "I am thinking of a number between 1 and 99...\n",
            "Enter a guess: 45\n",
            "Your guess is too high\n",
            "\n",
            "Enter a new guess: 30\n",
            "Your guess is too low\n",
            "\n",
            "Enter a new guess: 35\n",
            "Your guess is too low\n",
            "\n",
            "Enter a new guess: 37\n",
            "Your guess is too low\n",
            "\n",
            "Enter a new guess: 39\n",
            "Your guess is too low\n",
            "\n",
            "Enter a new guess: 41\n",
            "Your guess is too high\n",
            "\n",
            "Enter a new guess: 40\n",
            "Congrats! The number was:  40\n"
          ]
        }
      ]
    },
    {
      "cell_type": "code",
      "source": [
        "# 04_random_numbers\n",
        "import random\n",
        "N_NUMBERS : int = 10\n",
        "MIN_VALUE : int = 1\n",
        "MAX_VALUE : int = 100\n",
        "\n",
        "def main():\n",
        "  for i in range(N_NUMBERS):\n",
        "    print(random.randint(MIN_VALUE, MAX_VALUE), end=' ')\n",
        "\n",
        "if __name__ == '__main__':\n",
        "    main()\n",
        ""
      ],
      "metadata": {
        "colab": {
          "base_uri": "https://localhost:8080/"
        },
        "id": "igjcHx1QenhQ",
        "outputId": "686f350b-8dc9-44dd-c0ae-5091bb0d76f6"
      },
      "execution_count": 5,
      "outputs": [
        {
          "output_type": "stream",
          "name": "stdout",
          "text": [
            "80 65 79 50 60 49 15 30 94 98 "
          ]
        }
      ]
    }
  ]
}