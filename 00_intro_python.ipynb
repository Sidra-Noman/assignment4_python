{
  "nbformat": 4,
  "nbformat_minor": 0,
  "metadata": {
    "colab": {
      "provenance": [],
      "authorship_tag": "ABX9TyN4WMh3ET51qr7lj6NE1Z+v",
      "include_colab_link": true
    },
    "kernelspec": {
      "name": "python3",
      "display_name": "Python 3"
    },
    "language_info": {
      "name": "python"
    }
  },
  "cells": [
    {
      "cell_type": "markdown",
      "metadata": {
        "id": "view-in-github",
        "colab_type": "text"
      },
      "source": [
        "<a href=\"https://colab.research.google.com/github/Sidra-Noman/assignment4_python/blob/main/00_intro_python.ipynb\" target=\"_parent\"><img src=\"https://colab.research.google.com/assets/colab-badge.svg\" alt=\"Open In Colab\"/></a>"
      ]
    },
    {
      "cell_type": "code",
      "execution_count": 1,
      "metadata": {
        "colab": {
          "base_uri": "https://localhost:8080/"
        },
        "id": "oj-oSmN5okbD",
        "outputId": "e825b46d-8900-449e-d6ab-ddad66484429"
      },
      "outputs": [
        {
          "output_type": "stream",
          "name": "stdout",
          "text": [
            "Enter first number: 2\n",
            "Enter second number: 3\n",
            "The sum of two numbers is 5.\n"
          ]
        }
      ],
      "source": [
        "# (01_add_two_numbers)\n",
        "def main():\n",
        "\n",
        "    num1 = input(\"Enter first number: \")\n",
        "    num1 = int(num1)\n",
        "    num2 = input(\"Enter second number: \")\n",
        "    num2 = int(num2)\n",
        "    total  = num1 + num2\n",
        "    print(f\"The sum of two numbers is \" + str(total) + \".\")\n",
        "\n",
        "\n",
        "# This provided line is required at the end of\n",
        "# Python file to call the main() function.\n",
        "if __name__ == '__main__':\n",
        "    main()"
      ]
    },
    {
      "cell_type": "code",
      "source": [
        "# 02_agreement_bot\n",
        "def main():\n",
        "    animal = input(\"What's your favuorite animal___?\")\n",
        "    print(f\"My favourite animal is also {animal}\")\n",
        "\n",
        "\n",
        "if __name__ == '__main__':\n",
        "    main()"
      ],
      "metadata": {
        "colab": {
          "base_uri": "https://localhost:8080/"
        },
        "id": "k-NrixbCptLw",
        "outputId": "f9296ce5-68fd-4ca3-e359-a26b53e6508c"
      },
      "execution_count": 23,
      "outputs": [
        {
          "output_type": "stream",
          "name": "stdout",
          "text": [
            "What's your favuorite animal___?cAT\n",
            "My favourite animal is also cAT\n"
          ]
        }
      ]
    },
    {
      "cell_type": "code",
      "source": [
        "# 03_fahrenheit_to_celsius\n",
        "def main():\n",
        "    fahrenheit = float(input(\" Enter temperature in fahrenheit :\"))\n",
        "    celsius = (fahrenheit - 32) * 5.0/9.0\n",
        "    print(f\"temperature : {fahrenheit}F = {celsius}C\")\n",
        "\n",
        "\n",
        "# This provided line is required at the end of\n",
        "# Python file to call the main() function.\n",
        "if __name__ == '__main__':\n",
        "    main()"
      ],
      "metadata": {
        "colab": {
          "base_uri": "https://localhost:8080/"
        },
        "id": "dILP3BDdzheP",
        "outputId": "0201ef28-cfd9-4108-8aef-87b802667f58"
      },
      "execution_count": 25,
      "outputs": [
        {
          "output_type": "stream",
          "name": "stdout",
          "text": [
            " Enter temperature in fahrenheit :45\n",
            "temperature :45.0F = 7.222222222222222C\n"
          ]
        }
      ]
    },
    {
      "cell_type": "code",
      "source": [
        "# 04_how_old_are_they\n",
        "def main():\n",
        "\n",
        "    anton = 21\n",
        "    beth = 6 + anton\n",
        "    chen = 20 + beth\n",
        "    drew = chen + anton\n",
        "    ethan = chen\n",
        "\n",
        "    print(f\"Anton is {anton} years old\")\n",
        "    print(f\"Beth is {beth} years old\")\n",
        "    print(f\"Chen is {chen} years old\")\n",
        "    print(f\"Drew is {drew} years old\")\n",
        "    print(f\"Ethan is {ethan} years old\")\n",
        "\n",
        "\n",
        "# This provided line is required at the end of\n",
        "# Python file to call the main() function.\n",
        "if __name__ == '__main__':\n",
        "    main()"
      ],
      "metadata": {
        "colab": {
          "base_uri": "https://localhost:8080/"
        },
        "id": "87YqfaAU0ASW",
        "outputId": "25af1248-950f-4073-a7d7-b4ef15963715"
      },
      "execution_count": 26,
      "outputs": [
        {
          "output_type": "stream",
          "name": "stdout",
          "text": [
            "Anton is 21 years old\n",
            "Beth is 27 years old\n",
            "Chen is 47 years old\n",
            "Drew is 68 years old\n",
            "Ethan is 47 years old\n"
          ]
        }
      ]
    },
    {
      "cell_type": "code",
      "source": [
        "# 05_triangle_perimeter\n",
        "def main():\n",
        "    # Get the 3 side lengths of the triangle\n",
        "    side1: float = float(input(\"What is the length of side 1?\"))\n",
        "    side2: float = float(input(\"What is the length of side 2?\"))\n",
        "    side3: float = float(input(\"What is the length of side 3?\"))\n",
        "    perimeter = side1 +side2 +side3\n",
        "    print(f\"The perimeter of the triangle is {perimeter}\")\n",
        "    # Print out the perimeter (sum of the sides) of the triangle, make sure to cast it to a str when concatenating!\n",
        "    # print(\"The perimeter of the triangle is \" + str(side1 + side2 + side3))\n",
        "\n",
        "\n",
        "\n",
        "\n",
        "\n",
        "if __name__ == '__main__':\n",
        "    main()\n"
      ],
      "metadata": {
        "colab": {
          "base_uri": "https://localhost:8080/"
        },
        "id": "MTSqLUUw0Qgf",
        "outputId": "e905732c-0f5e-489e-84ab-c34d97df1bb0"
      },
      "execution_count": 28,
      "outputs": [
        {
          "output_type": "stream",
          "name": "stdout",
          "text": [
            "What is the length of side 1?2\n",
            " What is the length of side 2?2\n",
            "What is the length of side 3?3\n",
            "The perimeter of the triangle is 7.0\n"
          ]
        }
      ]
    },
    {
      "cell_type": "code",
      "source": [
        "# 06_Square_of_Number\n",
        "def main():\n",
        "    number = float(input(\"Type a number to see its square:\")) # Make sure to cast the input to a float so we can do math with it!\n",
        "    # print(str(number) + \" squared is \" + str(number ** 2)) # num * num is equivalent to num ** 2. The ** operator raises something to a power!\n",
        "\n",
        "    square = number * number\n",
        "    print(f'The square of {number} is {square}')\n",
        "\n",
        "\n",
        "if __name__ == '__main__':\n",
        "    main()"
      ],
      "metadata": {
        "colab": {
          "base_uri": "https://localhost:8080/"
        },
        "id": "ESqbjaxU2Fry",
        "outputId": "0d156a25-58b4-435c-c78e-dfe3cc6786bd"
      },
      "execution_count": 29,
      "outputs": [
        {
          "output_type": "stream",
          "name": "stdout",
          "text": [
            "Type a number to see its square:7\n",
            "The square of 7.0 is 49.0\n"
          ]
        }
      ]
    }
  ]
}