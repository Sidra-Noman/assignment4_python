{
  "nbformat": 4,
  "nbformat_minor": 0,
  "metadata": {
    "colab": {
      "provenance": [],
      "authorship_tag": "ABX9TyOYg+NwIGiDhyaCMwnZFgzr",
      "include_colab_link": true
    },
    "kernelspec": {
      "name": "python3",
      "display_name": "Python 3"
    },
    "language_info": {
      "name": "python"
    }
  },
  "cells": [
    {
      "cell_type": "markdown",
      "metadata": {
        "id": "view-in-github",
        "colab_type": "text"
      },
      "source": [
        "<a href=\"https://colab.research.google.com/github/Sidra-Noman/assignment4_python/blob/main/02_lists.ipynb\" target=\"_parent\"><img src=\"https://colab.research.google.com/assets/colab-badge.svg\" alt=\"Open In Colab\"/></a>"
      ]
    },
    {
      "cell_type": "code",
      "execution_count": null,
      "metadata": {
        "collapsed": true,
        "id": "DNFxdM4dPcEU"
      },
      "outputs": [],
      "source": [
        "# 01_add_many_number\n",
        "\n",
        "\n",
        "def add_many_numbers(numbers)-> int:\n",
        "\n",
        "\n",
        "    total_so_far: int = 0\n",
        "    for number in numbers:\n",
        "        total_so_far += number\n",
        "\n",
        "    return total_so_far\n",
        "\n",
        "\n",
        "def main():\n",
        "    numbers: list[int] = [1, 2, 3, 4, 5]\n",
        "    sum_of_numbers: int = add_many_numbers(numbers)\n",
        "    print(sum_of_numbers)\n",
        "\n",
        "\n",
        "if __name__ == '__main__':\n",
        "    main()"
      ]
    },
    {
      "cell_type": "code",
      "source": [
        "# 02_double_list.\n",
        "\n",
        "def main():\n",
        "    numbers: list[int] = [1, 2, 3, 4]\n",
        "\n",
        "    for i in range(len(numbers)):\n",
        "        elements_index = numbers[i]\n",
        "        numbers[i] = elements_index * 2\n",
        "\n",
        "    print(numbers)\n",
        "\n",
        "\n",
        "if __name__ == '__main__':\n",
        "    main()"
      ],
      "metadata": {
        "collapsed": true,
        "id": "DkbbocTOQpYZ"
      },
      "execution_count": null,
      "outputs": []
    },
    {
      "cell_type": "code",
      "source": [
        "\n",
        "# 03_erase_canvas\n",
        "import tkinter as tk\n",
        "\n",
        "CANVAS_WIDTH: int = 400\n",
        "CANVAS_HEIGHT: int = 400\n",
        "CELL_SIZE : int = 40\n",
        "\n",
        "def create_grid(canvas):\n",
        "  cells =[]\n",
        "  for row in range(0, CANVAS_HEIGHT, CELL_SIZE):\n",
        "      row_cells = []\n",
        "      for col in range(0, CANVAS_WIDTH, CELL_SIZE):\n",
        "       rect = canvas.create_rectangle(col, row, col + CELL_SIZE, row + CELL_SIZE, fill=\"blue\")\n",
        "       row_cells.append(rect)\n",
        "       cells.append(row_cells)\n",
        "  return cells\n",
        "\n",
        "def erase(event):\n",
        "        x,y = event.x, event.y\n",
        "        col, row = x // CELL_SIZE, y // CELL_SIZE\n",
        "\n",
        "        if 0<= row < len(grid) and 0<= col < len(grid[0]):\n",
        "          canvas.itemconfig(grid[row][col], fill=\"white\")\n",
        "\n",
        "def main():\n",
        "        global canvas, grid\n",
        "\n",
        "        root = tk.Tk()\n",
        "        canvas = tk.Canvas(root, width=CANVAS_WIDTH, height=CANVAS_HEIGHT, bg =\"white\")\n",
        "        canvas.bind(\"<B1-1=Motion>\", erase)\n",
        "        canvas.pack()\n",
        "\n",
        "        grid = create_grid(canvas)\n",
        "\n",
        "        root.mainloop()\n",
        "\n",
        "        if __name__ == '__main__':\n",
        "         main()\n",
        "\n",
        "\n",
        "\n"
      ],
      "metadata": {
        "id": "Z0oK9NPYRs9y"
      },
      "execution_count": 26,
      "outputs": []
    },
    {
      "cell_type": "code",
      "source": [
        "# 04_flowing_with_data_structures\n",
        "\n",
        "def add_three_copies(my_list, data):\n",
        "    for i in range(3):\n",
        "        my_list.append(data)\n",
        "\n",
        "\n",
        "\n",
        "def main():\n",
        "    message = input(\"Enter a message to copy: \")\n",
        "    my_list = []\n",
        "    print(\"List before:\", my_list)\n",
        "    add_three_copies(my_list, message)\n",
        "    print(\"List after:\", my_list)\n",
        "\n",
        "if __name__ == \"__main__\":\n",
        "    main()"
      ],
      "metadata": {
        "collapsed": true,
        "id": "ktpy08_ccIha"
      },
      "execution_count": null,
      "outputs": []
    },
    {
      "cell_type": "code",
      "source": [
        "# 05_get_first_element\n",
        "\n",
        "\n",
        "def get_first_element(lst):\n",
        "\n",
        "    # Prints the first element of a provided list.\n",
        "\n",
        "    print(lst[0])\n",
        "\n",
        "def get_lst():\n",
        "\n",
        "    lst = []\n",
        "    elem: str = input(\"Please enter an element of the list or press enter to stop. \")\n",
        "    while elem != \"\":\n",
        "        lst.append(elem)\n",
        "        elem = input(\"Please enter an element of the list or press enter to stop. \")\n",
        "    return lst\n",
        "\n",
        "def main():\n",
        "    lst = get_lst()\n",
        "    get_first_element(lst)\n",
        "\n",
        "\n",
        "if __name__ == '__main__':\n",
        "    main()\n",
        "\n"
      ],
      "metadata": {
        "collapsed": true,
        "id": "UeACh6EfciFJ"
      },
      "execution_count": null,
      "outputs": []
    },
    {
      "cell_type": "code",
      "source": [
        "# 06_get_last_element\n",
        "\n",
        "def get_last_element(lst):\n",
        "    \"\"\"Prints the last element of a non-empty list\"\"\"\n",
        "    print(lst[-1])\n",
        "\n",
        "\n",
        "\n"
      ],
      "metadata": {
        "id": "c-RycFU3e1MA"
      },
      "execution_count": null,
      "outputs": []
    },
    {
      "cell_type": "code",
      "source": [
        "# 07_get_list\n",
        "\n",
        "def main():\n",
        "    lst = []\n",
        "    val = input(\"Enter a value: \")\n",
        "    while val:\n",
        "        lst.append(val)\n",
        "        val = input(\"Enter a value: \")\n",
        "    print(\"Here's the list:\", lst)\n",
        "\n",
        "\n",
        "\n",
        "\n",
        "if __name__ == '__main__':\n",
        "    main()"
      ],
      "metadata": {
        "id": "nHqqEyzlfIuG"
      },
      "execution_count": null,
      "outputs": []
    },
    {
      "cell_type": "code",
      "source": [
        "# 08_shorten\n",
        "\n",
        "MAX_LENGTH : int = 3\n",
        "\n",
        "def shorten(lst):\n",
        "    while len(lst) > MAX_LENGTH:\n",
        "        last_elem = lst.pop()\n",
        "        print(last_elem)\n",
        "\n",
        "def get_lst():\n",
        "\n",
        "    lst = []\n",
        "    elem = input(\"Please enter an element of the list or press enter to stop. \")\n",
        "    while elem != \"\":\n",
        "        lst.append(elem)\n",
        "        elem = input(\"Please enter an element of the list or press enter to stop. \")\n",
        "    return lst\n",
        "\n",
        "def main():\n",
        "    lst = get_lst()\n",
        "    shorten(lst)\n",
        "\n",
        "\n",
        "if __name__ == '__main__':\n",
        "    main()"
      ],
      "metadata": {
        "id": "byu1WLMnfouK"
      },
      "execution_count": null,
      "outputs": []
    }
  ]
}