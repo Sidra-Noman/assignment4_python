{
  "nbformat": 4,
  "nbformat_minor": 0,
  "metadata": {
    "colab": {
      "provenance": []
    },
    "kernelspec": {
      "name": "python3",
      "display_name": "Python 3"
    },
    "language_info": {
      "name": "python"
    }
  },
  "cells": [
    {
      "cell_type": "markdown",
      "source": [
        "**Control Flow for Console**"
      ],
      "metadata": {
        "id": "w8sZxKNfyIgW"
      }
    },
    {
      "cell_type": "code",
      "execution_count": 1,
      "metadata": {
        "colab": {
          "base_uri": "https://localhost:8080/"
        },
        "id": "eKjdZE9awv_t",
        "outputId": "0b699f63-1a33-402d-d368-3a40a8949a88"
      },
      "outputs": [
        {
          "output_type": "stream",
          "name": "stdout",
          "text": [
            "Welcome to the High-Low Game!\n",
            "--------------------------------\n",
            "Round 1\n",
            "Your number is 22\n",
            "Do you think your number is higher or lower than the computer's?: lower\n",
            "You were right! The computer's number was 89\n",
            "Your score is now 1\n",
            "\n",
            "Round 2\n",
            "Your number is 77\n",
            "Do you think your number is higher or lower than the computer's?: higher\n",
            "Aww, that's incorrect. The computer's number was 78\n",
            "Your score is now 1\n",
            "\n",
            "Round 3\n",
            "Your number is 66\n",
            "Do you think your number is higher or lower than the computer's?: higher\n",
            "Aww, that's incorrect. The computer's number was 83\n",
            "Your score is now 1\n",
            "\n",
            "Round 4\n",
            "Your number is 7\n",
            "Do you think your number is higher or lower than the computer's?: lower\n",
            "Aww, that's incorrect. The computer's number was 4\n",
            "Your score is now 1\n",
            "\n",
            "Round 5\n",
            "Your number is 6\n",
            "Do you think your number is higher or lower than the computer's?: lower\n",
            "You were right! The computer's number was 9\n",
            "Your score is now 2\n",
            "\n",
            "Thanks for playing!\n"
          ]
        }
      ],
      "source": [
        "import random\n",
        "\n",
        "NUM_ROUNDS = 5\n",
        "\n",
        "def main():\n",
        "    print(\"Welcome to the High-Low Game!\")\n",
        "    print('--------------------------------')\n",
        "\n",
        "    # Milestone 5: keep track of your score\n",
        "    your_score = 0\n",
        "\n",
        "    # Milestone 4: Play multiple rounds\n",
        "    for i in range(NUM_ROUNDS):\n",
        "        print(\"Round\", i + 1)\n",
        "        # Milestone 1: Generate the random numbers and print them out\n",
        "        computer_num: int = random.randint(1, 100)\n",
        "        your_num: int = random.randint(1, 100)\n",
        "        print(\"Your number is\", your_num)\n",
        "\n",
        "        # Milestone 2: Get user input for their choice\n",
        "        choice: str = input(\"Do you think your number is higher or lower than the computer's?: \")\n",
        "\n",
        " # Milestone 3: Map out all the ways to win the round\n",
        "        higher_and_correct: bool = choice == \"higher\" and your_num > computer_num\n",
        "        lower_and_correct: bool = choice == \"lower\" and your_num < computer_num\n",
        "\n",
        "        if higher_and_correct or lower_and_correct:\n",
        "            print(\"You were right! The computer's number was\", computer_num)\n",
        "            # Milestone 5: keep track of your score\n",
        "            your_score += 1\n",
        "        else:\n",
        "            print(\"Aww, that's incorrect. The computer's number was\", computer_num)\n",
        "\n",
        "        # Milestone 5: keep track of your score\n",
        "        print(\"Your score is now\", your_score)\n",
        "        print()\n",
        "\n",
        "    print(\"Thanks for playing!\")\n",
        "\n",
        "if __name__ == \"__main__\":\n",
        "    main()\n"
      ]
    },
    {
      "cell_type": "markdown",
      "source": [
        "**Intro to Python**\n",
        "\n"
      ],
      "metadata": {
        "id": "z6qDao_VzAQX"
      }
    },
    {
      "cell_type": "code",
      "source": [
        "def main():\n",
        "  print(\"Welcome to the Planetary Weights Calculator\")\n",
        "  print(\"-------------------------------------------\")\n",
        "\n",
        "\n",
        "earth_weight = float(input(\"Enter a weight on Earth: \"))\n",
        "\n",
        "gravity_ratios = {\n",
        "    'Mercury': 0.38,\n",
        "    'Venus': 0.91,\n",
        "    'Mars': 0.38,\n",
        "    'Jupiter': 2.34,\n",
        "    'Saturn': 0.93,\n",
        "    'Uranus': 0.92,\n",
        "    'Neptune': 1.19\n",
        "}\n",
        "print('\\n Select a planet')\n",
        "for planet in gravity_ratios:\n",
        "  print(f'- {planet}')\n",
        "\n",
        "planet_choice = input(\"Enter the name of the planet: \").title()\n",
        "\n",
        "\n",
        "if planet_choice in gravity_ratios:\n",
        "  new_weight = earth_weight * gravity_ratios[planet_choice]\n",
        "  print(f'Your weight on {planet_choice} is {new_weight:.2f} kg')\n",
        "else:\n",
        "  print('Invalid planet choice')\n",
        "\n",
        "if __name__ == \"__main__\":\n",
        "    main()"
      ],
      "metadata": {
        "colab": {
          "base_uri": "https://localhost:8080/"
        },
        "id": "RdzdaSYxxwXz",
        "outputId": "0f62f43a-716c-48ca-8538-680eb19031b5"
      },
      "execution_count": 2,
      "outputs": [
        {
          "output_type": "stream",
          "name": "stdout",
          "text": [
            "Enter a weight on Earth: 25\n",
            "\n",
            " Select a planet\n",
            "- Mercury\n",
            "- Venus\n",
            "- Mars\n",
            "- Jupiter\n",
            "- Saturn\n",
            "- Uranus\n",
            "- Neptune\n",
            "Enter the name of the planet: saturn\n",
            "Your weight on Saturn is 23.25 kg\n",
            "Welcome to the Planetary Weights Calculator\n",
            "-------------------------------------------\n"
          ]
        }
      ]
    },
    {
      "cell_type": "markdown",
      "source": [
        "**Lists and Dicts**"
      ],
      "metadata": {
        "id": "kyqQOUIpzbEW"
      }
    },
    {
      "cell_type": "code",
      "source": [
        "my_list = ['apple', 'banana', 'orange', 'grape', 'pineapple']\n",
        "\n",
        "def access_element(my_list, index):\n",
        "  if 0 <= index < len(my_list):\n",
        "    return f\"Element at Index {index}: {my_list[index]}\"\n",
        "  else:\n",
        "    return \"Index out of range\"\n",
        "\n",
        "def modify_element(my_list, index, new_value):\n",
        "  if 0 <= index < len(my_list):\n",
        "    old_value = my_list[index]\n",
        "    my_list[index] = new_value\n",
        "    return f'Element at Index {index} modified from {old_value} to {new_value}'\n",
        "  return 'Index out of range'\n",
        "\n",
        "def slice_list(my_list,start,end):\n",
        "  if 0 <= start < len(my_list) and 0 <= end <= len(my_list):\n",
        "    return f'Sliced list: {my_list[start:end]}'\n",
        "  return(\"Invalid Slice Indicates!\")\n",
        "\n",
        "def list_game():\n",
        "  print(\"\\n Welcome to the list manipulation!\")\n",
        "my_list = ['apple', 'banana', 'orange', 'grape', 'pineapple']\n",
        "while True:\n",
        "  print(\"Current list:\", my_list)\n",
        "  print('Select an operation')\n",
        "  print('1. Access Element')\n",
        "  print('2. Modify Element')\n",
        "  print('3. Slice List')\n",
        "  print('4. Quit')\n",
        "\n",
        "  choice = input('Enter your choice (1-4): ')\n",
        "\n",
        "  if choice == '1':\n",
        "   index = int(input('Enter the index to access: '))\n",
        "   print(access_element(my_list, index))\n",
        "\n",
        "  elif choice == '2':\n",
        "   index = int(input(\"Enter the index to modify: \")) # Changed this line to take user input\n",
        "   new_value = input(\"Enter new value: \")\n",
        "   print(modify_element(my_list, index, new_value))\n",
        "\n",
        "  elif choice == '3':\n",
        "   start = int(input(\"Enter start index: \"))\n",
        "   end = int(input(\"Enter end index: \"))\n",
        "   print(slice_list(my_list, start, end))\n",
        "\n",
        "  elif choice == '4':\n",
        "   print('Exiting the game, Thanks for playing!')\n",
        "   break\n",
        "  else: print('Invalid Choice!')\n",
        "\n",
        "\n",
        "\n",
        "if __name__ == \"__main__\":\n",
        "    list_game()"
      ],
      "metadata": {
        "colab": {
          "base_uri": "https://localhost:8080/"
        },
        "id": "qeS0JAeMze6k",
        "outputId": "55b2e011-1b4c-4613-9e14-85726391c26f"
      },
      "execution_count": 5,
      "outputs": [
        {
          "output_type": "stream",
          "name": "stdout",
          "text": [
            "Current list: ['apple', 'banana', 'orange', 'grape', 'pineapple']\n",
            "Select an operation\n",
            "1. Access Element\n",
            "2. Modify Element\n",
            "3. Slice List\n",
            "4. Quit\n",
            "Enter your choice (1-4): 2\n",
            "Enter the index to modify: 3\n",
            "Enter new value: mango\n",
            "Element at Index 3 modified from grape to mango\n",
            "Current list: ['apple', 'banana', 'orange', 'mango', 'pineapple']\n",
            "Select an operation\n",
            "1. Access Element\n",
            "2. Modify Element\n",
            "3. Slice List\n",
            "4. Quit\n",
            "Enter your choice (1-4): 4\n",
            "Exiting the game, Thanks for playing!\n",
            "\n",
            " Welcome to the list manipulation!\n"
          ]
        }
      ]
    }
  ]
}