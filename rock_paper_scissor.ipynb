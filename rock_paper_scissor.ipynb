{
  "nbformat": 4,
  "nbformat_minor": 0,
  "metadata": {
    "colab": {
      "provenance": [],
      "authorship_tag": "ABX9TyP29AVmDNsgWKO0ZIj6REeM",
      "include_colab_link": true
    },
    "kernelspec": {
      "name": "python3",
      "display_name": "Python 3"
    },
    "language_info": {
      "name": "python"
    }
  },
  "cells": [
    {
      "cell_type": "markdown",
      "metadata": {
        "id": "view-in-github",
        "colab_type": "text"
      },
      "source": [
        "<a href=\"https://colab.research.google.com/github/Sidra-Noman/assignment4_python/blob/main/rock_paper_scissor.ipynb\" target=\"_parent\"><img src=\"https://colab.research.google.com/assets/colab-badge.svg\" alt=\"Open In Colab\"/></a>"
      ]
    },
    {
      "cell_type": "code",
      "source": [
        "import random\n",
        "print(\"Welcome to the Rock, Paper, Scissors game!\")\n",
        "\n",
        "choices = [\"rock\", \"paper\", \"scissors\"]\n",
        "user_score = computer_score = 0\n",
        "\n",
        "import random\n",
        "print(\"Welcome to the Rock, Paper, Scissors game!\")\n",
        "\n",
        "choices = [\"rock\", \"paper\", \"scissors\"]\n",
        "user_score = computer_score = 0\n",
        "\n",
        "print(\"Let\\'s play!\")\n",
        "\n",
        "while True:\n",
        "    user_input = input(\"Choose rock, paper, or scissors or Q to quit: \").lower()\n",
        "    if user_input == \"q\":\n",
        "        print(f\"Final score - you:{user_score}, computer: {computer_score}\") # Corrected indentation\n",
        "        print(\"Thanks for playing!\")\n",
        "        break # Exit the loop when user inputs 'q'\n",
        "    if user_input not in choices:\n",
        "        print(\"Invalid input. Try again.\")\n",
        "        continue\n",
        "\n",
        "    computer_chose = random.choice(choices)\n",
        "    print(f\"Computer chose {computer_chose}.\")\n",
        "    if user_input == computer_chose:\n",
        "        print(\"It's a tie!\")\n",
        "    elif (user_input == \"rock\" and computer_chose == \"scissors\") or \\\n",
        "         (user_input == \"paper\" and computer_chose == \"rock\") or \\\n",
        "         (user_input == \"scissors\" and computer_chose == \"paper\"):\n",
        "        print(\"You win!\")\n",
        "        user_score += 1\n",
        "    else:\n",
        "        print(\"Computer wins!\")\n",
        "        computer_score += 1\n",
        "    print(f\"Your score: {user_score}, computer score: {computer_score}\")\n"
      ],
      "metadata": {
        "colab": {
          "base_uri": "https://localhost:8080/"
        },
        "id": "_ZoNE54ILWkx",
        "outputId": "53eca58b-cd74-4d66-ccb4-8388225d4a9b"
      },
      "execution_count": 3,
      "outputs": [
        {
          "output_type": "stream",
          "name": "stdout",
          "text": [
            "Welcome to the Rock, Paper, Scissors game!\n",
            "Welcome to the Rock, Paper, Scissors game!\n",
            "Let's play!\n",
            "Computer chose scissors.\n",
            "You win!\n",
            "Your score: 1, computer score: 0\n",
            "Computer chose rock.\n",
            "You win!\n",
            "Your score: 2, computer score: 0\n",
            "Invalid input. Try again.\n",
            "Choose rock, paper, or scissors or Q to quit: q\n",
            "Final score - you:2, computer: 0\n",
            "Thanks for playing!\n"
          ]
        }
      ]
    }
  ]
}