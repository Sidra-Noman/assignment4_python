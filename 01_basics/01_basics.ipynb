{
  "nbformat": 4,
  "nbformat_minor": 0,
  "metadata": {
    "colab": {
      "provenance": []
    },
    "kernelspec": {
      "name": "python3",
      "display_name": "Python 3"
    },
    "language_info": {
      "name": "python"
    }
  },
  "cells": [
    {
      "cell_type": "code",
      "source": [
        "# 00_joke_bot\n",
        "\n",
        "PROMPT: str = \"What do you want? \"\n",
        "JOKE: str = \"\"\"\n",
        "Here is a joke for you! Sophia is heading out to the grocery store. A programmer tells her: get a liter of milk, and if they have eggs, get 12.\n",
        "Sophia returns with 13 liters of milk. The programmer asks why and Sophia replies: 'because they had eggs'\n",
        " \"\"\"\n",
        "SORRY: str = \"Sorry I only tell jokes.\"\n",
        "\n",
        "def main():\n",
        "    user_input = input(PROMPT)\n",
        "    user_input = user_input.strip().lower()\n",
        "\n",
        "    if 'joke' in user_input:\n",
        "        print(JOKE)\n",
        "    else:\n",
        "        print(SORRY)\n",
        "\n",
        "if __name__ == \"__main__\":\n",
        "    main()"
      ],
      "metadata": {
        "colab": {
          "base_uri": "https://localhost:8080/"
        },
        "id": "x9e8WpmWo4_K",
        "outputId": "b74966ce-c93d-4785-e9c3-a72a129cce70"
      },
      "execution_count": 1,
      "outputs": [
        {
          "output_type": "stream",
          "name": "stdout",
          "text": [
            "What do you want? joke\n",
            "\n",
            "Here is a joke for you! Sophia is heading out to the grocery store. A programmer tells her: get a liter of milk, and if they have eggs, get 12.\n",
            "Sophia returns with 13 liters of milk. The programmer asks why and Sophia replies: 'because they had eggs'\n",
            " \n"
          ]
        }
      ]
    },
    {
      "cell_type": "code",
      "source": [
        "# 01_double_it\n",
        "\n",
        "def main():\n",
        "\n",
        "    user_value = int(input('Enter a number: '))\n",
        "    while user_value < 100:\n",
        "      user_value = user_value * 2\n",
        "      print(user_value)\n",
        "\n",
        "\n",
        "if __name__ == \"__main__\":\n",
        "    main()"
      ],
      "metadata": {
        "colab": {
          "base_uri": "https://localhost:8080/"
        },
        "id": "JG5xzsZQpPHB",
        "outputId": "c5d46fd8-7b47-4a11-a01b-6758adae0646"
      },
      "execution_count": 3,
      "outputs": [
        {
          "output_type": "stream",
          "name": "stdout",
          "text": [
            "Enter a number: 46\n",
            "92\n",
            "184\n"
          ]
        }
      ]
    },
    {
      "cell_type": "code",
      "source": [
        "# 02_liftoff\n",
        "\n",
        "def main():\n",
        "  for i in range(10,0,-1):\n",
        "\n",
        "    print(i,end=' ')\n",
        "  print(\"Liftoff!\")\n",
        "\n",
        "\n",
        "if __name__ == '__main__':\n",
        "    main()"
      ],
      "metadata": {
        "colab": {
          "base_uri": "https://localhost:8080/"
        },
        "id": "rtd4ZPG-piiG",
        "outputId": "4e734f6d-3613-41df-cd55-2c0125b65d01"
      },
      "execution_count": 4,
      "outputs": [
        {
          "output_type": "stream",
          "name": "stdout",
          "text": [
            "10 9 8 7 6 5 4 3 2 1 Liftoff!\n"
          ]
        }
      ]
    },
    {
      "cell_type": "code",
      "source": [
        "# 03_guess_my_number\n",
        "import random\n",
        "\n",
        "def main():\n",
        "\n",
        "    secret_number = random.randint(1, 99)\n",
        "\n",
        "    print(\"I am thinking of a number between 1 and 99...\")\n",
        "\n",
        "    guess = int(input(\"Enter a guess: \"))\n",
        "    while guess != secret_number:\n",
        "        if guess < secret_number:\n",
        "            print(\"Your guess is too low\")\n",
        "        else:\n",
        "            print(\"Your guess is too high\")\n",
        "\n",
        "        print()\n",
        "        guess = int(input(\"Enter a new guess: \"))\n",
        "\n",
        "    print(f\"Congrats! The number was:  {secret_number}\")\n",
        "\n",
        "if __name__ == '__main__':\n",
        "    main()"
      ],
      "metadata": {
        "colab": {
          "base_uri": "https://localhost:8080/"
        },
        "id": "uED3haF_ps0H",
        "outputId": "9799a201-8a6d-4b35-b323-4a67060a16a6"
      },
      "execution_count": 5,
      "outputs": [
        {
          "output_type": "stream",
          "name": "stdout",
          "text": [
            "I am thinking of a number between 1 and 99...\n",
            "Enter a guess: 50\n",
            "Your guess is too high\n",
            "\n",
            "Enter a new guess: 45\n",
            "Your guess is too high\n",
            "\n",
            "Enter a new guess: 35\n",
            "Your guess is too high\n",
            "\n",
            "Enter a new guess: 25\n",
            "Your guess is too high\n",
            "\n",
            "Enter a new guess: 15\n",
            "Your guess is too low\n",
            "\n",
            "Enter a new guess: 17\n",
            "Your guess is too low\n",
            "\n",
            "Enter a new guess: 19\n",
            "Your guess is too low\n",
            "\n",
            "Enter a new guess: 21\n",
            "Your guess is too low\n",
            "\n",
            "Enter a new guess: 23\n",
            "Your guess is too low\n",
            "\n",
            "Enter a new guess: 24\n",
            "Congrats! The number was:  24\n"
          ]
        }
      ]
    },
    {
      "cell_type": "code",
      "source": [
        "# 04_random_numbers\n",
        "\n",
        "import random\n",
        "N_NUMBERS : int = 10\n",
        "MIN_VALUE : int = 1\n",
        "MAX_VALUE : int = 100\n",
        "\n",
        "def main():\n",
        "  for i in range(N_NUMBERS):\n",
        "    print(random.randint(MIN_VALUE, MAX_VALUE), end=' ')\n",
        "\n",
        "if __name__ == '__main__':\n",
        "    main()"
      ],
      "metadata": {
        "colab": {
          "base_uri": "https://localhost:8080/"
        },
        "id": "xlZgiynBqCk0",
        "outputId": "eca5661a-eb3d-4e01-9087-ef8039141d16"
      },
      "execution_count": 6,
      "outputs": [
        {
          "output_type": "stream",
          "name": "stdout",
          "text": [
            "44 89 18 95 40 32 80 23 9 18 "
          ]
        }
      ]
    }
  ]
}