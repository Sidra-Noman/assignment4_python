{
  "nbformat": 4,
  "nbformat_minor": 0,
  "metadata": {
    "colab": {
      "provenance": [],
      "authorship_tag": "ABX9TyNp3z1sg9xN/X+vAUwQ1OnR",
      "include_colab_link": true
    },
    "kernelspec": {
      "name": "python3",
      "display_name": "Python 3"
    },
    "language_info": {
      "name": "python"
    }
  },
  "cells": [
    {
      "cell_type": "markdown",
      "metadata": {
        "id": "view-in-github",
        "colab_type": "text"
      },
      "source": [
        "<a href=\"https://colab.research.google.com/github/Sidra-Noman/assignment4_python/blob/main/countdown_timer.ipynb\" target=\"_parent\"><img src=\"https://colab.research.google.com/assets/colab-badge.svg\" alt=\"Open In Colab\"/></a>"
      ]
    },
    {
      "cell_type": "code",
      "execution_count": 4,
      "metadata": {
        "colab": {
          "base_uri": "https://localhost:8080/"
        },
        "id": "skqwO3BOGjS_",
        "outputId": "714f477d-d4f7-460e-f538-105db986b761"
      },
      "outputs": [
        {
          "output_type": "stream",
          "name": "stdout",
          "text": [
            "Time's up!\n"
          ]
        }
      ],
      "source": [
        "import time\n",
        "def countdown(seconds):\n",
        "  mins = seconds // 60\n",
        "  seconds = seconds % 60\n",
        "  print (f\"{mins:02d}:{seconds:02d}\", end=\"\\r\")\n",
        "  time.sleep(1)\n",
        "  seconds -= 1\n",
        "\n",
        "  if seconds >=0:\n",
        "    countdown(seconds)\n",
        "  else:\n",
        "    print(\"Time's up!\")\n",
        "\n",
        "if __name__ == \"__main__\":\n",
        "\n",
        "  countdown(20)"
      ]
    }
  ]
}