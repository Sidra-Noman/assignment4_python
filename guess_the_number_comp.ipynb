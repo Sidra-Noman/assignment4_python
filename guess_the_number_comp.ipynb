{
  "nbformat": 4,
  "nbformat_minor": 0,
  "metadata": {
    "colab": {
      "provenance": [],
      "authorship_tag": "ABX9TyNjEzvnQYVMTmImYbuHC9Z8",
      "include_colab_link": true
    },
    "kernelspec": {
      "name": "python3",
      "display_name": "Python 3"
    },
    "language_info": {
      "name": "python"
    }
  },
  "cells": [
    {
      "cell_type": "markdown",
      "metadata": {
        "id": "view-in-github",
        "colab_type": "text"
      },
      "source": [
        "<a href=\"https://colab.research.google.com/github/Sidra-Noman/assignment4_python/blob/main/guess_the_number_comp.ipynb\" target=\"_parent\"><img src=\"https://colab.research.google.com/assets/colab-badge.svg\" alt=\"Open In Colab\"/></a>"
      ]
    },
    {
      "cell_type": "code",
      "execution_count": 1,
      "metadata": {
        "colab": {
          "base_uri": "https://localhost:8080/"
        },
        "id": "wBo0mt8g2wgg",
        "outputId": "c71cc7e7-5593-4338-bd7c-502cdb9c461f"
      },
      "outputs": [
        {
          "output_type": "stream",
          "name": "stdout",
          "text": [
            "Welcome to the Number Guessing Game!\n",
            "Think of a number between 1 to 10 and the computer will try to guess it.\n",
            "Computer's guess is: 6\n",
            "Is the guess too high (H), too low (L), or correct (C)? too high\n",
            "Invalid feedback. Please enter H, L, or C.\n",
            "Computer's guess is: 1\n",
            "Is the guess too high (H), too low (L), or correct (C)? l\n",
            "Computer's guess is: 4\n",
            "Is the guess too high (H), too low (L), or correct (C)? l\n",
            "Computer's guess is: 7\n",
            "Is the guess too high (H), too low (L), or correct (C)? h\n",
            "Computer's guess is: 6\n",
            "Is the guess too high (H), too low (L), or correct (C)? h\n",
            "Computer's guess is: 5\n",
            "Is the guess too high (H), too low (L), or correct (C)? c\n",
            "Yahoo! The computer guessed your number correctly!\n"
          ]
        }
      ],
      "source": [
        "import random\n",
        "\n",
        "print(\"Welcome to the Number Guessing Game!\")\n",
        "print(\"Think of a number between 1 to 10 and the computer will try to guess it.\")\n",
        "\n",
        "low = 1\n",
        "high = 10\n",
        "\n",
        "while low <= high:\n",
        "    guess = random.randint(low, high)\n",
        "    print(\"Computer's guess is:\", guess)\n",
        "\n",
        "    feedback = input(\"Is the guess too high (H), too low (L), or correct (C)? \").strip().upper()\n",
        "\n",
        "    if feedback == \"C\":\n",
        "        print(\"Yahoo! The computer guessed your number correctly!\")\n",
        "        break\n",
        "    elif feedback == \"H\":\n",
        "        high = guess - 1\n",
        "    elif feedback == \"L\":\n",
        "        low = guess + 1\n",
        "    else:\n",
        "        print(\"Invalid feedback. Please enter H, L, or C.\")\n",
        "\n",
        "else:\n",
        "    print(\"Hmm... Something doesn't add up. Maybe inconsistent feedback?\")\n"
      ]
    }
  ]
}