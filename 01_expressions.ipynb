{
  "nbformat": 4,
  "nbformat_minor": 0,
  "metadata": {
    "colab": {
      "provenance": [],
      "authorship_tag": "ABX9TyM/s218wsipOdVL+1iRG/Tx",
      "include_colab_link": true
    },
    "kernelspec": {
      "name": "python3",
      "display_name": "Python 3"
    },
    "language_info": {
      "name": "python"
    }
  },
  "cells": [
    {
      "cell_type": "markdown",
      "metadata": {
        "id": "view-in-github",
        "colab_type": "text"
      },
      "source": [
        "<a href=\"https://colab.research.google.com/github/Sidra-Noman/assignment4_python/blob/main/01_expressions.ipynb\" target=\"_parent\"><img src=\"https://colab.research.google.com/assets/colab-badge.svg\" alt=\"Open In Colab\"/></a>"
      ]
    },
    {
      "cell_type": "code",
      "execution_count": null,
      "metadata": {
        "colab": {
          "base_uri": "https://localhost:8080/"
        },
        "id": "9GvQx3VlFPvO",
        "outputId": "3e904003-e67b-4a0d-adc5-6a54da06c03f"
      },
      "outputs": [
        {
          "output_type": "stream",
          "name": "stdout",
          "text": [
            "die1 in main() starts as: 10\n",
            "Die 1: 1, Die 2: 5, Total: 6\n",
            "Die 1: 5, Die 2: 2, Total: 7\n",
            "Die 1: 1, Die 2: 4, Total: 5\n",
            "die1 in main() is: 10\n"
          ]
        }
      ],
      "source": [
        "# 01_dicesimulator\n",
        "\n",
        "import random\n",
        "Num_sides = 6\n",
        "\n",
        "def roll_dice():\n",
        "    die1:int = random.randint(1,Num_sides)\n",
        "    die2:int = random.randint(1,Num_sides)\n",
        "    total:int = die1 + die2\n",
        "    print(f\"Die 1: {die1}, Die 2: {die2}, Total: {total}\")\n",
        "\n",
        "def main():\n",
        "    die1:int= 10 # Assign die1 within the scope of main()\n",
        "    print(\"die1 in main() starts as: \" + str(die1)) # Now die1 is accessible\n",
        "    roll_dice()\n",
        "    roll_dice()\n",
        "    roll_dice()\n",
        "\n",
        "    print(\"die1 in main() is: \" + str(die1))\n",
        "\n",
        "if __name__ == '__main__':\n",
        "    main()\n"
      ]
    },
    {
      "cell_type": "code",
      "source": [
        "# 02_e=mc2.md\n",
        "\n",
        "C: int = 299792458  # The speed of light in m/s\n",
        "\n",
        "def main():\n",
        "    mass_in_kg: float = float(input(\"Enter kilos of mass: \"))\n",
        "\n",
        "    # Calculate energy\n",
        "    # equivalently energy = mass * (C ** 2)\n",
        "    # using the ** operator to raise C to the power of 2\n",
        "    energy_in_joules: float = mass_in_kg * (C ** 2)\n",
        "\n",
        "    # Display work to the user\n",
        "    print(\"e = m * C^2...\")\n",
        "    print(\"m = \" + str(mass_in_kg) + \" kg\")\n",
        "    print(\"C = \" + str(C) + \" m/s\")\n",
        "\n",
        "    print(str(energy_in_joules) + \" joules of energy!\")\n",
        "\n",
        "\n",
        "if __name__ == '__main__':\n",
        "    main()\n"
      ],
      "metadata": {
        "colab": {
          "base_uri": "https://localhost:8080/"
        },
        "id": "SMQQMrXbM5iM",
        "outputId": "494015c3-d379-43f8-d34f-95655a1f9379"
      },
      "execution_count": null,
      "outputs": [
        {
          "output_type": "stream",
          "name": "stdout",
          "text": [
            "Enter kilos of mass: 20\n",
            "e = m * C^2...\n",
            "m = 20.0 kg\n",
            "C = 299792458 m/s\n",
            "1.7975103574736353e+18 joules of energy!\n"
          ]
        }
      ]
    },
    {
      "cell_type": "code",
      "source": [
        "# 03_feet_to_inches\n",
        "\n",
        "INCHES_IN_FOOT: int = 12\n",
        "\n",
        "def main():\n",
        "    feet: float = float(input(\"Enter number of feet: \"))\n",
        "    inches: float = feet * INCHES_IN_FOOT\n",
        "    print(\"That is\", inches, \"inches!\")\n",
        "\n",
        "\n",
        "if __name__ == '__main__':\n",
        "    main()\n"
      ],
      "metadata": {
        "colab": {
          "base_uri": "https://localhost:8080/"
        },
        "id": "rU5jEx9HOpo9",
        "outputId": "6ea94982-f3d1-452c-e4fb-f28bd99cc4c4"
      },
      "execution_count": null,
      "outputs": [
        {
          "output_type": "stream",
          "name": "stdout",
          "text": [
            "Enter number of feet: 20\n",
            "That is 240.0 inches!\n"
          ]
        }
      ]
    },
    {
      "cell_type": "code",
      "source": [
        "# 04_pythagorean_theorem\n",
        "\n",
        "import math\n",
        "\n",
        "def main():\n",
        "    ab = float(input(\"Enter the length of AB: \"))\n",
        "    ac = float(input(\"Enter the length of AC: \"))\n",
        "\n",
        "    bc: float = math.sqrt(ab**2 + ac**2)\n",
        "    print(\"The length of BC (the hypotenuse) is: \" + str(bc))\n",
        "\n",
        "\n",
        "if __name__ == '__main__':\n",
        "    main()"
      ],
      "metadata": {
        "colab": {
          "base_uri": "https://localhost:8080/"
        },
        "id": "bqA8Z5eMQCpt",
        "outputId": "d024cdd7-f941-475c-bf1d-e92f7a8708ab"
      },
      "execution_count": null,
      "outputs": [
        {
          "output_type": "stream",
          "name": "stdout",
          "text": [
            "Enter the length of AB: 3\n",
            "Enter the length of AC: 4\n",
            "The length of BC (the hypotenuse) is: 5.0\n"
          ]
        }
      ]
    },
    {
      "cell_type": "code",
      "source": [
        "# 05_remainder_division\n",
        "\n",
        "def main():\n",
        "\n",
        "    dividend = int(input(\"Please enter an integer to be divided: \"))\n",
        "    divisor = int(input(\"Please enter an integer to divide by: \"))\n",
        "\n",
        "    quotient = dividend // divisor\n",
        "    remainder = dividend % divisor\n",
        "\n",
        "    print(\"The result of this division is \" + str(quotient) + \" with a remainder of \" + str(remainder))\n",
        "\n",
        "\n",
        "\n",
        "if __name__ == '__main__':\n",
        "    main()\n"
      ],
      "metadata": {
        "colab": {
          "base_uri": "https://localhost:8080/"
        },
        "id": "JJH0xP2JUZqD",
        "outputId": "69bee215-7117-4ea3-9c67-7522d8e33663"
      },
      "execution_count": null,
      "outputs": [
        {
          "output_type": "stream",
          "name": "stdout",
          "text": [
            "Please enter an integer to be divided: 5\n",
            "Please enter an integer to divide by: 3\n",
            "The result of this division is 1 with a remainder of 2\n"
          ]
        }
      ]
    },
    {
      "cell_type": "code",
      "source": [
        "# 06_rolldice\n",
        "\n",
        "import random\n",
        "\n",
        "NUM_SIDES = 6\n",
        "def main():\n",
        "\n",
        "    die1 = random.randint(1, NUM_SIDES)\n",
        "    die2 = random.randint(1, NUM_SIDES)\n",
        "    total = die1 + die2\n",
        "\n",
        "    print(\"Dice have\", NUM_SIDES, \"sides each.\")\n",
        "    print(\"First die:\", die1)\n",
        "    print(\"Second die:\", die2)\n",
        "    print(\"Total of two dice:\", total)\n",
        "if __name__ == '__main__':\n",
        "     main()"
      ],
      "metadata": {
        "colab": {
          "base_uri": "https://localhost:8080/"
        },
        "id": "1166r2_uafvN",
        "outputId": "cf69253d-62f7-49d8-b402-0bdff01f19d6"
      },
      "execution_count": null,
      "outputs": [
        {
          "output_type": "stream",
          "name": "stdout",
          "text": [
            "Dice have 6 sides each.\n",
            "First die: 5\n",
            "Second die: 5\n",
            "Total of two dice: 10\n"
          ]
        }
      ]
    },
    {
      "cell_type": "code",
      "source": [
        "# 06_seconds_in_year\n",
        "DAYS_PER_YEAR = 365\n",
        "HOURS_PER_DAY = 24\n",
        "MIN_PER_HOUR = 60\n",
        "SEC_PER_MIN = 60\n",
        "\n",
        "def main():\n",
        "     total_seconds = DAYS_PER_YEAR * HOURS_PER_DAY * MIN_PER_HOUR * SEC_PER_MIN\n",
        "     print(\"There are {total_seconds} seconds in a year!\")\n",
        "\n",
        "\n",
        "if __name__ == '__main__':\n",
        "    main()\n",
        "\n"
      ],
      "metadata": {
        "colab": {
          "base_uri": "https://localhost:8080/"
        },
        "id": "s3MRe21KbZY_",
        "outputId": "333e752d-bce7-40e5-a2de-ec9bcecc87c9"
      },
      "execution_count": 1,
      "outputs": [
        {
          "output_type": "stream",
          "name": "stdout",
          "text": [
            "There are 31536000 seconds in a year!\n"
          ]
        }
      ]
    },
    {
      "cell_type": "code",
      "source": [
        "# 07_tiny_mad_lib\n",
        "\n",
        "SENTENCE_START: str = \"Panaversity is fun. I learned to program and used Python to make my \"\n",
        "\n",
        "def main():\n",
        "\n",
        "    adjective: str = input(\"Please type an adjective and press enter. \")\n",
        "    noun: str = input(\"Please type a noun and press enter. \")\n",
        "    verb: str = input(\"Please type a verb and press enter. \")\n",
        "\n",
        "    print(SENTENCE_START + adjective + \" \" + noun + \" \" + verb + \"!\")\n",
        "\n",
        "if __name__ == '__main__':\n",
        "    main()"
      ],
      "metadata": {
        "id": "MZeF09Wfbly2",
        "colab": {
          "base_uri": "https://localhost:8080/"
        },
        "outputId": "6e7894fb-ba54-49b0-c4af-d107591817e9"
      },
      "execution_count": 2,
      "outputs": [
        {
          "output_type": "stream",
          "name": "stdout",
          "text": [
            "Please type a verb and press enter. amazing\n",
            "Panaversity is fun. I learned to program and used Python to make my amazing project amazing!\n"
          ]
        }
      ]
    }
  ]
}