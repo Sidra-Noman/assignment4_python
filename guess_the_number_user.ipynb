{
  "nbformat": 4,
  "nbformat_minor": 0,
  "metadata": {
    "colab": {
      "provenance": [],
      "authorship_tag": "ABX9TyM6lQJlttiqevlvxDVNPm5M",
      "include_colab_link": true
    },
    "kernelspec": {
      "name": "python3",
      "display_name": "Python 3"
    },
    "language_info": {
      "name": "python"
    }
  },
  "cells": [
    {
      "cell_type": "markdown",
      "metadata": {
        "id": "view-in-github",
        "colab_type": "text"
      },
      "source": [
        "<a href=\"https://colab.research.google.com/github/Sidra-Noman/assignment4_python/blob/main/guess_the_number_user.ipynb\" target=\"_parent\"><img src=\"https://colab.research.google.com/assets/colab-badge.svg\" alt=\"Open In Colab\"/></a>"
      ]
    },
    {
      "cell_type": "code",
      "execution_count": 2,
      "metadata": {
        "colab": {
          "base_uri": "https://localhost:8080/"
        },
        "id": "bO3kCp5J-V6C",
        "outputId": "61f45c3a-5e3d-4748-82b6-5f29e5e140ba"
      },
      "outputs": [
        {
          "output_type": "stream",
          "name": "stdout",
          "text": [
            "Welcome to the Number Guessing Game!\n",
            "I have selected a number between 1 to 10. Can you guess it?\n",
            "Enter your guess: 3\n",
            "Too low! Try again.\n",
            "Enter your guess: 5\n",
            "Too low! Try again.\n",
            "Enter your guess: 7\n",
            "Congratulations! You guessed the number!\n"
          ]
        }
      ],
      "source": [
        "import random\n",
        "\n",
        "print (\"Welcome to the Number Guessing Game!\")\n",
        "\n",
        "secret_number = random.randint(1, 10)\n",
        "\n",
        "print(\"I have selected a number between 1 to 10. Can you guess it?\")\n",
        "\n",
        "while True:\n",
        "    try:\n",
        "        guess = int(input(\"Enter your guess: \"))\n",
        "        if guess > secret_number:\n",
        "            print(\"Too high! Try again.\")\n",
        "        elif guess < secret_number:\n",
        "            print(\"Too low! Try again.\")\n",
        "        else:\n",
        "            print(\"Congratulations! You guessed the number!\")\n",
        "            break\n",
        "    except ValueError:\n",
        "        print(\"Invalid input. Please enter a number between 1 to 10.\")"
      ]
    }
  ]
}