{
  "nbformat": 4,
  "nbformat_minor": 0,
  "metadata": {
    "colab": {
      "provenance": [],
      "authorship_tag": "ABX9TyMShHB/Z4THdQidYrTZ9ztG",
      "include_colab_link": true
    },
    "kernelspec": {
      "name": "python3",
      "display_name": "Python 3"
    },
    "language_info": {
      "name": "python"
    }
  },
  "cells": [
    {
      "cell_type": "markdown",
      "metadata": {
        "id": "view-in-github",
        "colab_type": "text"
      },
      "source": [
        "<a href=\"https://colab.research.google.com/github/Sidra-Noman/assignment4_python/blob/main/mad_lib.ipynb\" target=\"_parent\"><img src=\"https://colab.research.google.com/assets/colab-badge.svg\" alt=\"Open In Colab\"/></a>"
      ]
    },
    {
      "cell_type": "code",
      "source": [],
      "metadata": {
        "id": "XxUH3UQmfcUw"
      },
      "execution_count": null,
      "outputs": []
    },
    {
      "cell_type": "code",
      "execution_count": 1,
      "metadata": {
        "colab": {
          "base_uri": "https://localhost:8080/"
        },
        "id": "TO0HCWzaUcHq",
        "outputId": "3570c631-ed1c-4d65-87b7-df47eb06c969"
      },
      "outputs": [
        {
          "output_type": "stream",
          "name": "stdout",
          "text": [
            "Let's play Mad Libs! Fill in the blanks with your own words.\n",
            "Give me a name: sidra\n",
            "Give me a place: park\n",
            "Give me a funny adjective: big\n",
            "Give me a random object: egg\n",
            "Give me an animal: monkey\n",
            "Give me an action verb: jump\n",
            "Give me a funny exclamation: ahaaan\n",
            "\n",
            "Here is your Mad Libs story:\n",
            "\n",
            "    One bright morning, sidra decided to take a walk through park.\n",
            "    Along the way, they stumbled upon a big egg lying on the ground.\n",
            "    Suddenly, a wild monkey appeared and began to jump like it was dancing!\n",
            "    Startled but amused, sidra screamed, \"ahaaan!\" and ran off laughing.\n",
            "    It was a day to remember!\n",
            "    \n"
          ]
        }
      ],
      "source": [
        "def mad_lib():\n",
        "    print(\"Let's play Mad Libs! Fill in the blanks with your own words.\")\n",
        "\n",
        "    name = input(\"Give me a name: \")\n",
        "    place = input(\"Give me a place: \")\n",
        "    funny_adj = input(\"Give me a funny adjective: \")\n",
        "    random_obj = input(\"Give me a random object: \")\n",
        "    animal = input(\"Give me an animal: \")\n",
        "    action_verb = input(\"Give me an action verb: \")\n",
        "    funny_exclamation = input(\"Give me a funny exclamation: \")\n",
        "\n",
        "    story = f'''\n",
        "    One bright morning, {name} decided to take a walk through {place}.\n",
        "    Along the way, they stumbled upon a {funny_adj} {random_obj} lying on the ground.\n",
        "    Suddenly, a wild {animal} appeared and began to {action_verb} like it was dancing!\n",
        "    Startled but amused, {name} screamed, \"{funny_exclamation}!\" and ran off laughing.\n",
        "    It was a day to remember!\n",
        "    '''\n",
        "\n",
        "    print(\"\\nHere is your Mad Libs story:\")\n",
        "    print(story)\n",
        "\n",
        "if __name__ == \"__main__\":\n",
        "    mad_lib()\n",
        "\n",
        "\n"
      ]
    }
  ]
}